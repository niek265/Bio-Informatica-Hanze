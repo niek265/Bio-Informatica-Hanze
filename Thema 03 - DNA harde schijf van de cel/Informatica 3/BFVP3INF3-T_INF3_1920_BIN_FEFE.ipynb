{
 "cells": [
  {
   "cell_type": "markdown",
   "metadata": {
    "collapsed": true
   },
   "source": [
    "![](hanze.png)\n",
    "\n",
    "# Proeftentamen Informatica 3"
   ]
  },
  {
   "cell_type": "markdown",
   "metadata": {},
   "source": [
    "\n",
    "## Instructies\n",
    "\n",
    "Het tentamen bevat een aantal opdrachten. Iedere opdracht heeft 1 of meerdere code cellen in deze notebook. Telkens wanneer je `# YOUR CODE HERE` tegenkomt, wordt er input van jou verwacht. Ook zie je een `raise NotImplementedError()` staan. Deze moet je <b>vervangen</b> voor jouw test script om de code aan te roepen\n",
    "\n",
    "<b>Belangrijk:</b>\n",
    "In veel van de vragen is de code verpakt in een functie.  \n",
    "De functie is echter nog niet aangeroepen.  \n",
    "Dit moet je zelf nog doen!\n",
    "\n",
    "### Te gebruiken bronnen\n",
    "We kijken mee op je scherm. Je mag https://docs.python.org/3/library/pydoc.html en de cheatsheets gebruiken maar geen andere bronnen. Je mag scripts in een IDE omgeving runnen zoals pycharm of direct in dit notebook. Je mag de commandline editor gebruiken om te testen. \n",
    "\n",
    "### Indienen\n",
    "De uitwerkingen van alle vragen zet je in **dit notebook**. Je levert het in door het te uploaden via blackboard. \n",
    "\n",
    "\n"
   ]
  },
  {
   "cell_type": "markdown",
   "metadata": {},
   "source": [
    "## Vraag 1\n",
    "\n",
    "\n",
    "Gegeven een lijst met getallen, maak een nieuwe lijst die alleen de getallen bevat die **deelbaar zijn door 3** en waarbij het oorspronkelijke getal **kleiner dan 30** is. Maak hierbij gebruik van `filter` en `lambda`. Laat dit zien aan de hand van deze lijst: \n",
    "    \n",
    "    [0,1,1,2,3,6,8,12,21,28,34,55] \n",
    "     "
   ]
  },
  {
   "cell_type": "code",
   "execution_count": null,
   "metadata": {},
   "outputs": [],
   "source": [
    "def vraag1(my_list):\n",
    "    ...\n",
    "    # YOUR CODE HERE\n",
    "\n",
    "raise NotImplementedError"
   ]
  },
  {
   "cell_type": "markdown",
   "metadata": {},
   "source": [
    "## Vraag 2\n",
    "\n",
    "Gegeven de volgende twee lijsten:\n",
    "\n",
    "    l1 = [1, 2, 3] \n",
    "    l2 = [4, 5, 6] \n",
    "    \n",
    "Maak een nieuwe lijst met behulp van `map()` en `lambda` waarbij de beide getallen bij elkaar opgeteld worden. Dus het resultaat is [5, 7, 9]\n"
   ]
  },
  {
   "cell_type": "code",
   "execution_count": null,
   "metadata": {},
   "outputs": [],
   "source": [
    "def vraag2():\n",
    "    ...\n",
    "    # YOUR CODE HERE\n",
    "    \n",
    "\n",
    "raise NotImplementedError"
   ]
  },
  {
   "cell_type": "markdown",
   "metadata": {},
   "source": [
    "## Vraag 3\n",
    "\n",
    "Gegeven een stuk RNA, construeer een reguliere expressie die 'matcht' op het volledige mRNA (coderende deel) uit deze RNA String. Het mRNA van een eukaryoot heeft de volgende eigenschappen:\n",
    "\n",
    "* een AUG start codon van het begin van de sequentie\n",
    "* gevolgd door 30 tot 1000 bases ('A','U','C','G')\n",
    "* gevolgd door een poly-A tail tussen 5 and 10 bases op het eind van de sequentie \n"
   ]
  },
  {
   "cell_type": "code",
   "execution_count": null,
   "metadata": {},
   "outputs": [],
   "source": [
    "def vraag3():\n",
    "    ...\n",
    "    # YOUR CODE HERE\n",
    "    \n",
    "rna = 'AUGGCCAUGGCGCCCAGAACUGAGAUCAAUAGUACCCGUAUUAACGGGUGAAAAAAAA'\n",
    "raise NotImplementedError"
   ]
  },
  {
   "cell_type": "markdown",
   "metadata": {},
   "source": [
    "## Vraag 4\n",
    "\n",
    "4a. Creëer een klasse `MRNAError` die overerft van `RuntimeError`. Bij het aanmaken van objecten van deze klasse moet de String 'String is geen mRNA' doorgestuurd worden aan de superklasse. \n",
    "\n",
    "4b. Construeer een klasse `MRNA`. Bij aan aanmaken van objecten van deze klasse moet een string meegegeven worden, die in het object wordt opgeslagen.\n",
    "\n",
    "4c. Voorzie de klasse `MRNA` van een methode `check_rna` die een String als parameter ontvangt. Deze methode moet controleren of deze string mRNA is: een mRNA-string bevat *alleen* de karakters 'A','C','G' of 'U' en de lengte van de string is een veelvoud van drie. Als de string valide mRNA is, moet de methode `True` teruggegeven. Als dat niet het geval is, geeft de methode `False` terug.\n",
    "\n",
    "4d. Breid de *constructor* van de klasse `MRNA` uit, zodat de meegegeven string door de methode `check_rna` wordt gecontroleerd. Als deze methode `False` teruggeeft, moet er een `MRNAError` 'geworpen' worden en moet het object niet gecreëerd worden.\n",
    "\n",
    "4c. Voorzie deze klasse `MRNA` van een methode die een *leesbare versie* van de opgeslagen string weergeeft. Deze methode moet de opgeslagen string teruggeven, maar dan voorzien van streepjes (`-`) tussen de tripletten. Zie de onderstaande code voor inspiratie:\n",
    "```\n",
    "n = 3 # chunk length\n",
    "chunks = [str[i:i+n] for i in range(0, len(str), n)]\n",
    "```\n",
    "\n",
    "Schrijf je code in de onderstaande cell. Pas de check-code *niet* aan (je mag het wel in het commentaar zetten)."
   ]
  },
  {
   "cell_type": "code",
   "execution_count": null,
   "metadata": {},
   "outputs": [],
   "source": [
    "# YOUR Exception class here\n",
    "\n",
    "# YOUR MRNA class here\n",
    "\n",
    "# TEST CODE\n",
    "# pas dit *niet* aan. Je mag wel onderdelen in commentaar zetten.\n",
    "\n",
    "try:\n",
    "  obj = MRNA('ACAGGUGCAACA')\n",
    "  assert (type(obj) == MRNA)\n",
    "\n",
    "  print(obj)\n",
    "\n",
    "  obj2 = MRNA('FOOBAR')\n",
    "\n",
    "except AssertionError:\n",
    "  print ('Het object is niet van het goede type')\n",
    "except NameError:\n",
    "  print ('De klasse heeft niet de juiste naam')\n",
    "except MRNAError:\n",
    "  print ('De string is geen valide mRNA')"
   ]
  }
 ],
 "metadata": {
  "kernelspec": {
   "display_name": "Python 3",
   "language": "python",
   "name": "python3"
  },
  "language_info": {
   "codemirror_mode": {
    "name": "ipython",
    "version": 3
   },
   "file_extension": ".py",
   "mimetype": "text/x-python",
   "name": "python",
   "nbconvert_exporter": "python",
   "pygments_lexer": "ipython3",
   "version": "3.8.7"
  }
 },
 "nbformat": 4,
 "nbformat_minor": 2
}
