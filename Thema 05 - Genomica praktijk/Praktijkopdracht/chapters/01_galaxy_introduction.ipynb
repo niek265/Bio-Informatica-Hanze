{
 "cells": [
  {
   "cell_type": "markdown",
   "metadata": {},
   "source": [
    "## 1 The Galaxy Server\n",
    "\n",
    "This is the main 'tool' we will use during this course, or (web)platform containing the *actual* tools for performing our analysis. Since we are spending a lot of time in Galaxy we start by learning how to use it. Note that there are a lot of Galaxy servers available to use worldwide and each server probably contains a different set of implemented tools. The main galaxy server is available at https://usegalaxy.org which is fine for learning about galaxy (section below) but **won't** be used later on (see the section below that).\n",
    "\n",
    "### Learning Galaxy\n",
    "\n",
    "Start by following a beginner *tutorial* available at the [Galaxy Training](https://galaxyproject.github.io/training-material/) collection or from the - old - [Galaxy Learn](https://wiki.galaxyproject.org/Learn) wiki page. First, browse the page to see what is available (some can be used later on too) and choose an interesting (beginners!) tutorial to try. While not all tutorials are either relavant or very up-to-date, you need to learn at least the following concepts:\n",
    "* Creating a new history or rename your current - empty - history\n",
    "* Uploading data from a local file\n",
    "* Finding/ selecting a tool and\n",
    "    * Selecting the input data for a tool\n",
    "    * Changing settings\n",
    "    * Executing a tool\n",
    "* Using the History to\n",
    "    * View tool-output\n",
    "    * Re-run a tool\n",
    "    * Delete elements\n",
    "    * Select and copy elements to a new history\n",
    "* And - preferably - something about creating a workflow\n",
    "    * This item will be explained later on too\n",
    "\n",
    "You only need to report *which* tutorial you followed/ video tutorial you watched.\n",
    "\n",
    "### Bioinformatics Galaxy Server\n",
    "\n",
    "After completing this tutorial, we switch to the Galaxy server that we will use throughout this course which is available at: https://galaxy.bioinf.nl and contains a collection of course specific tools. \n",
    "<img src=\"pics/galaxyServer.png\"><br />\n",
    "\n",
    "### 1.1 Create a Galaxy user\n",
    "The first time that you will visit this page you are required to create a user account for saving your work. After today's lesson server access will be limited and forces you to login. In the top-menu, click on the `User` item followed by the `Register` link.\n",
    "\n",
    "\n",
    "<img src=\"pics/register.png\"><br />\n",
    "\n",
    "Use your **student email address** and choose a password. A public name is also mandetory and is used when you share your data, use the same name that you use to login on the system you are using now. When you are done, return to the home page.\n",
    "\n",
    "\n",
    "<img src=\"pics/createAccount.png\"><br />\n",
    "\n",
    "<img src=\"pics/galaxyTools.png\" style=\"float: right;\">The Galaxy server that we host ourselves is different from the one that you've used for the tutorial. Different in this sense means containing a different collection of tools. Most of the tools that we will be using in this course can be found in the **Diagnostic Genome Analysis** category in the Tools panel (left column). \n",
    "\n",
    "Some tools however were installed in bundles and have their own category and therefore the easiest method of finding the tool you need is to simply enter the name in the *search tools* field in the top-left corner. "
   ]
  }
 ],
 "metadata": {
  "kernelspec": {
   "display_name": "Python 3",
   "language": "python",
   "name": "python3"
  },
  "language_info": {
   "codemirror_mode": {
    "name": "ipython",
    "version": 3
   },
   "file_extension": ".py",
   "mimetype": "text/x-python",
   "name": "python",
   "nbconvert_exporter": "python",
   "pygments_lexer": "ipython3",
   "version": "3.6.0"
  }
 },
 "nbformat": 4,
 "nbformat_minor": 2
}
