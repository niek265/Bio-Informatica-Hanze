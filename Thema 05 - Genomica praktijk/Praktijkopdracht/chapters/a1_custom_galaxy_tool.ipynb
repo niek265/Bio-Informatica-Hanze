{
 "cells": [
  {
   "cell_type": "markdown",
   "metadata": {},
   "source": [
    "# Creating a Custom Galaxy Tool\n",
    "\n",
    "This short section describes how to create a custom Galaxy tool from the program we've created in deliverable 7. \n",
    "\n",
    "There is just one requirement for creating a proper Galaxy tool which is a *tool description file* in `XML`-format. This file describes the tool by specifying all input- and output-arguments, the command or program to run (our Python script) and documentation. For instance, the listing below shows the XML 'code' for the `Summary Statistics` Galaxy tool (in the `Statistics` section): "
   ]
  },
  {
   "cell_type": "markdown",
   "metadata": {},
   "source": [
    "<pre style='color:#000000;background:#ffffff;'><span style='color:#a65700; '>&lt;</span><span style='color:#5f5035; '>tool</span><span style='color:#274796; '> </span><span style='color:#074726; '>id</span><span style='color:#808030; '>=</span><span style='color:#0000e6; '>\"Summary_Statistics1\"</span><span style='color:#274796; '> </span><span style='color:#074726; '>name</span><span style='color:#808030; '>=</span><span style='color:#0000e6; '>\"Summary Statistics\"</span><span style='color:#274796; '> </span><span style='color:#074726; '>version</span><span style='color:#808030; '>=</span><span style='color:#0000e6; '>\"1.1.0\"</span><span style='color:#a65700; '>></span>\n",
    "  <span style='color:#a65700; '>&lt;</span><span style='color:#5f5035; '>description</span><span style='color:#a65700; '>></span>for any numerical column<span style='color:#a65700; '>&lt;/</span><span style='color:#5f5035; '>description</span><span style='color:#a65700; '>></span>\n",
    "  <span style='color:#a65700; '>&lt;</span><span style='color:#800000; font-weight:bold; '>command</span><span style='color:#a65700; '>></span>&#36;__tool_directory__/gsummary<span style='color:#008c00; '>.</span>py $input $out_file1 \"$cond\"<span style='color:#a65700; '>&lt;/</span><span style='color:#800000; font-weight:bold; '>command</span><span style='color:#a65700; '>></span>\n",
    "  <span style='color:#a65700; '>&lt;</span><span style='color:#5f5035; '>inputs</span><span style='color:#a65700; '>></span>\n",
    "    <span style='color:#a65700; '>&lt;</span><span style='color:#800000; font-weight:bold; '>param</span><span style='color:#274796; '> format</span><span style='color:#808030; '>=</span><span style='color:#0000e6; '>\"tabular\"</span><span style='color:#274796; '> </span><span style='color:#074726; '>name</span><span style='color:#808030; '>=</span><span style='color:#0000e6; '>\"input\"</span><span style='color:#274796; '> </span><span style='color:#074726; '>type</span><span style='color:#808030; '>=</span><span style='color:#0000e6; '>\"data\"</span><span style='color:#274796; '> </span><span style='color:#074726; '>label</span><span style='color:#808030; '>=</span><span style='color:#0000e6; '>\"Summary statistics on\"</span><span style='color:#274796; '> help</span><span style='color:#808030; '>=</span><span style='color:#0000e6; '>\"...\"</span><span style='color:#a65700; '>/></span>\n",
    "    <span style='color:#a65700; '>&lt;</span><span style='color:#800000; font-weight:bold; '>param</span><span style='color:#274796; '> </span><span style='color:#074726; '>name</span><span style='color:#808030; '>=</span><span style='color:#0000e6; '>\"cond\"</span><span style='color:#274796; '> </span><span style='color:#074726; '>size</span><span style='color:#808030; '>=</span><span style='color:#0000e6; '>\"30\"</span><span style='color:#274796; '> </span><span style='color:#074726; '>type</span><span style='color:#808030; '>=</span><span style='color:#0000e6; '>\"text\"</span><span style='color:#274796; '> </span><span style='color:#074726; '>value</span><span style='color:#808030; '>=</span><span style='color:#0000e6; '>\"c5\"</span><span style='color:#274796; '> </span><span style='color:#074726; '>label</span><span style='color:#808030; '>=</span><span style='color:#0000e6; '>\"Column or expression\"</span><span style='color:#274796; '> help</span><span style='color:#808030; '>=</span><span style='color:#0000e6; '>\"...\"</span><span style='color:#a65700; '>></span>\n",
    "      <span style='color:#a65700; '>&lt;</span><span style='color:#5f5035; '>validator</span><span style='color:#274796; '> </span><span style='color:#074726; '>type</span><span style='color:#808030; '>=</span><span style='color:#0000e6; '>\"empty_field\"</span><span style='color:#274796; '> message</span><span style='color:#808030; '>=</span><span style='color:#0000e6; '>\"...\"</span><span style='color:#a65700; '>/></span>\n",
    "    <span style='color:#a65700; '>&lt;/</span><span style='color:#800000; font-weight:bold; '>param</span><span style='color:#a65700; '>></span>\n",
    "  <span style='color:#a65700; '>&lt;/</span><span style='color:#5f5035; '>inputs</span><span style='color:#a65700; '>></span>\n",
    "  <span style='color:#a65700; '>&lt;</span><span style='color:#5f5035; '>outputs</span><span style='color:#a65700; '>></span>\n",
    "    <span style='color:#a65700; '>&lt;</span><span style='color:#5f5035; '>data</span><span style='color:#274796; '> format</span><span style='color:#808030; '>=</span><span style='color:#0000e6; '>\"tabular\"</span><span style='color:#274796; '> </span><span style='color:#074726; '>name</span><span style='color:#808030; '>=</span><span style='color:#0000e6; '>\"out_file1\"</span><span style='color:#274796; '> </span><span style='color:#a65700; '>/></span>\n",
    "  <span style='color:#a65700; '>&lt;/</span><span style='color:#5f5035; '>outputs</span><span style='color:#a65700; '>></span>\n",
    "  <span style='color:#a65700; '>&lt;</span><span style='color:#5f5035; '>help</span><span style='color:#a65700; '>></span>...<span style='color:#a65700; '>&lt;/</span><span style='color:#5f5035; '>help</span><span style='color:#a65700; '>></span>\n",
    "<span style='color:#a65700; '>&lt;/</span><span style='color:#5f5035; '>tool</span><span style='color:#a65700; '>></span>\n",
    "</pre>"
   ]
  },
  {
   "cell_type": "markdown",
   "metadata": {},
   "source": [
    "While the shown XML code has been stripped of some optional elements (and the `help` removed to save space), it does contain all required elements, namely the <span style='color:#5f5035; '>&lt;tool&gt;</span>, <span style='color:#5f5035; '>&lt;description&gt;</span>, <span style='color:#5f5035; '>&lt;command&gt;</span>, <span style='color:#5f5035; '>&lt;inputs&gt;</span> and <span style='color:#5f5035; '>&lt;outputs&gt;</span> sections.\n",
    "\n",
    "* `tool`-section: This main section contains the tool `name`, `id` and `version`-number for the tool\n",
    "* `description`-section: A textual description of the use of the tool, shown as subtext in the tool menu\n",
    "* `command`-section: The command that is run given the arguments gathered in the `inputs` and `outputs` sections. Make sure that the Python file is executable and includes the proper first line: `!#/usr/bin/env python3`. **Update:** in the example above, the *`interpreter=python`* part has been removed from the `command`-tag. The `$__tool_directory__/` prefex has been added to the path of the Python file. \n",
    "* `inputs`-section: The inputs required to run the command, these can be various types, such as text, values, files (with certain types), selections, etc. Each separate input is defined with a <span style='color:#a65700; '>&lt;</span><span style='color:#800000; font-weight:bold; '>param</span><span style='color:#a65700; '>&gt;</span> tag that defines the format, name, type, label and help for this parameter.\n",
    "* `outputs`-section: One or more output files generated by the command, with a format given\n",
    "* `help`-section: A (potentially empty) help section which translates to everything below the `Execute` button on many Galaxy tools. Mostly used for extra documentation, example input/output data and additional references to publications or websites. \n",
    "\n",
    "For a (very) complete description of how to write this XML file, see the official [Tool XML File](https://docs.galaxyproject.org/en/latest/dev/schema.html) documentation. This however contains many more settings that we will not use.\n",
    "\n",
    "## From Data input to Argument\n",
    "\n",
    "Just as an example, our first programming assignment resulted in a Python script that accepts two parameters; a BED-file and a pileup-file and creates a single output file (the coverage statistics in CSV-format). This translates to the following XML-code to define the <span style='color:#5f5035; '>&lt;inputs&gt;</span> and <span style='color:#5f5035; '>&lt;outputs&gt;</span>:\n",
    "\n",
    "<pre style='color:#000000;background:#ffffff;'><span style='color:#a65700; '>&lt;</span><span style='color:#5f5035; '>inputs</span><span style='color:#a65700; '>></span>\n",
    "    <span style='color:#a65700; '>&lt;</span><span style='color:#800000; font-weight:bold; '>param</span><span style='color:#274796; '> format</span><span style='color:#808030; '>=</span><span style='color:#0000e6; '>\"bed\"</span><span style='color:#274796; '> </span><span style='color:#074726; '>name</span><span style='color:#808030; '>=</span><span style='color:#0000e6; '>\"input_bed\"</span><span style='color:#274796; '> </span><span style='color:#074726; '>type</span><span style='color:#808030; '>=</span><span style='color:#0000e6; '>\"data\"</span><span style='color:#274796; '> </span><span style='color:#074726; '>label</span><span style='color:#808030; '>=</span><span style='color:#0000e6; '>\"Input BED-file\"</span><span style='color:#274796; '> help</span><span style='color:#808030; '>=</span><span style='color:#0000e6; '>\"...\"</span><span style='color:#a65700; '>/></span>\n",
    "    <span style='color:#a65700; '>&lt;</span><span style='color:#800000; font-weight:bold; '>param</span><span style='color:#274796; '> format</span><span style='color:#808030; '>=</span><span style='color:#0000e6; '>\"pileup\"</span><span style='color:#274796; '> </span><span style='color:#074726; '>name</span><span style='color:#808030; '>=</span><span style='color:#0000e6; '>\"input_pileup\"</span><span style='color:#274796; '> </span><span style='color:#074726; '>type</span><span style='color:#808030; '>=</span><span style='color:#0000e6; '>\"data\"</span><span style='color:#274796; '> </span><span style='color:#074726; '>label</span><span style='color:#808030; '>=</span><span style='color:#0000e6; '>\"Input pileup-file\"</span><span style='color:#274796; '> help</span><span style='color:#808030; '>=</span><span style='color:#0000e6; '>\"...\"</span><span style='color:#a65700; '>/></span>\n",
    "<span style='color:#a65700; '>&lt;/</span><span style='color:#5f5035; '>inputs</span><span style='color:#a65700; '>></span>\n",
    "<span style='color:#a65700; '>&lt;</span><span style='color:#5f5035; '>outputs</span><span style='color:#a65700; '>></span>\n",
    "    <span style='color:#a65700; '>&lt;</span><span style='color:#5f5035; '>data</span><span style='color:#274796; '> format</span><span style='color:#808030; '>=</span><span style='color:#0000e6; '>\"tabular\"</span><span style='color:#274796; '> </span><span style='color:#074726; '>name</span><span style='color:#808030; '>=</span><span style='color:#0000e6; '>\"coverage_statistics_out\"</span><span style='color:#274796; '> </span><span style='color:#a65700; '>/></span>\n",
    "<span style='color:#a65700; '>&lt;/</span><span style='color:#5f5035; '>outputs</span><span style='color:#a65700; '>></span>\n",
    "</pre>"
   ]
  },
  {
   "cell_type": "markdown",
   "metadata": {},
   "source": [
    "The second programming assignment (deliverable 8; filtering a VCF file based on a given minimum *frequency* value) needs another input parameter, namely a **value** for the frequency to filter on. This percentage value is of the type `float` and can be defined as follows:"
   ]
  },
  {
   "cell_type": "markdown",
   "metadata": {},
   "source": [
    "<pre style='color:#000000;background:#ffffff;'><span style='color:#a65700; '>&lt;</span><span style='color:#800000; font-weight:bold; '>param</span><span style='color:#274796; '> </span><span style='color:#074726; '>name</span><span style='color:#808030; '>=</span><span style='color:#0000e6; '>\"frequency\"</span><span style='color:#274796; '> </span><span style='color:#074726; '>type</span><span style='color:#808030; '>=</span><span style='color:#0000e6; '>\"float\"</span><span style='color:#274796; '> </span><span style='color:#074726; '>value</span><span style='color:#808030; '>=</span><span style='color:#0000e6; '>\"30.0\"</span><span style='color:#274796; '> </span><span style='color:#074726; '>label</span><span style='color:#808030; '>=</span><span style='color:#0000e6; '>\"Minimum frequency value for filtering\"</span><span style='color:#274796; '> </span><span style='color:#a65700; '>/></span>\n",
    "</pre>"
   ]
  },
  {
   "cell_type": "markdown",
   "metadata": {},
   "source": [
    "The code examples show three inputs and one output where the <span style='color:#074726; '>name</span><span style='color:#808030; '>=</span>... parameter defines the name we use within the <span style='color:#a65700; '>&lt;</span><span style='color:#800000; font-weight:bold; '>command</span><span style='color:#a65700; '>&gt;</span> tag. By using the <span style='color:#074726; '>type</span><span style='color:#808030; '>=</span><span style='color:#0000e6; '>\"data\"</span> paramter we state that we expect a data element from the Galaxy history. This automatically translates to a pull-down menu item where a suitable file can be selected. Which files are suitable can be defined with the <span style='color:#274796; '> format</span><span style='color:#808030; '>=</span><span style='color:#0000e6; '>\"bed\"</span> parameter. Galaxy supports many file formats and by selecting the proper format the user has less trouble selecting the correct inputs and Galaxy couples the correct visualisation and conversion tools if possible. To see the complete 'list' of file formats supported you can look/search the Galaxy [datatypes configuration file](https://github.com/galaxyproject/galaxy/blob/dev/config/datatypes_conf.xml.sample). As it seems, both the `bed`- and `pileup`-formats are supported.\n",
    "\n",
    "**Note**: A bug was discovered (and reported [on github](https://github.com/galaxyproject/galaxy/issues/4736)) where the documentation state that the <span style='color:#074726; '>value</span><span style='color:#808030; '>=</span><span style='color:#0000e6; '>\"30.0\"</span> is *not* required, however when we do not give a default value Galaxy is unable to load the tool.. For now, make sure that you have a default value set when using either `integer` or `float` input parameter.\n",
    "\n",
    "When we want to execute our `deliverable7.py` file as the command, this is very straightforward:\n",
    "\n",
    "<pre><span style='color:#a65700; '>&lt;</span><span style='color:#800000; font-weight:bold; '>command</span><span style='color:#a65700; '>></span>&#36;__tool_directory__/deliverable7<span style='color:#008c00; '>.</span>py $input_bed $input_pileup $coverage_statistics_out<span style='color:#a65700; '>&lt;/</span><span style='color:#800000; font-weight:bold; '>command</span><span style='color:#a65700; '>></span></pre>\n",
    "\n",
    "Galaxy will replace the identifiers such as `$input_bed` with the path to the actual selected BED-file. The `$coverage_statistics_out` value holds a path to a new file. Our program accepts these three parameters, processed the data and outputs the results to the given path which will become a new Galaxy history element once the `Execute` button is pressed.\n",
    "\n",
    "### Packaging the new tool\n",
    "\n",
    "Once the tool XML file is complete, this file together with the program it executes must be placed inside Galaxy's `/tools/` folder. Once there it must also be added to a configuration file so that Galaxy knows that it needs to include the tool and in which section it can be found. Normally this is a very straightforward process but since we are now using a single Galaxy server shared with many users who all make a Galaxy tool, there are some differences (and a downside..).\n",
    "\n",
    "#### Custom Galaxy tool on galaxy.bioinf.nl\n",
    "\n",
    "Create a new folder in `/commons/Themas/Thema05/SequencingProject/galaxy/tools/` named `username_tools`, where you replace `username` with your **Galaxy** username, for instance with my Galaxy username `marcelk` I created a folder:\n",
    "```\n",
    "/commons/Themas/Thema05/SequencingProject/galaxy/tools/marcelk_tools/```\n",
    "Inside this folder I can add XML tool description files and their accompanying tools (i.e. Python scripts). \n",
    "**Important**: everyone has read/write rights in the `/commons/Themas/Thema05/SequencingProject/galaxy/tools` folder, make sure that only you have read rights in your own folder: \n",
    "```\n",
    "chmod 700 /commons/Themas/Thema05/SequencingProject/galaxy/tools/marcelk_tools/\n",
    "```\n",
    "\n",
    "will do just that.\n",
    "\n",
    "Getting the tools to actually show up in Galaxy is a manual process by the Galaxy admin, this will be done on a regular basis but unfortunately there will be some delay..\n",
    "<hr />"
   ]
  }
 ],
 "metadata": {
  "kernelspec": {
   "display_name": "Python 3",
   "language": "python",
   "name": "python3"
  },
  "language_info": {
   "codemirror_mode": {
    "name": "ipython",
    "version": 3
   },
   "file_extension": ".py",
   "mimetype": "text/x-python",
   "name": "python",
   "nbconvert_exporter": "python",
   "pygments_lexer": "ipython3",
   "version": "3.6.5"
  }
 },
 "nbformat": 4,
 "nbformat_minor": 2
}
