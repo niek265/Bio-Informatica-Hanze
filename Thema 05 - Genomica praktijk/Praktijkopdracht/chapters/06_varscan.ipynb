{
 "cells": [
  {
   "cell_type": "markdown",
   "metadata": {},
   "source": [
    "# 6 Analysis Step #4; Finding Variants using `Varscan`\n",
    "\n",
    "Most likely you've already seen how a true variant (not a single or few mismatches) looks when we looked at the data in the IGV-browser. For such a variant you see a number of reads having a different base at that positions compared to the reference genome. As we've mentioned before, we are interested in all these variants in our patient data for the cardiopanel genes. The previous *visualize-your-data* assignment did not ask to find all these variants using the IGV-browser because in this section we are going to use a program to do this for us.\n",
    "\n",
    "The tool that we will use is the [Varscan 2](http://genome.cshlp.org/content/22/3/568) tool that scans the pileup file for variants. This tool has a number of settings that, combined, defines when a position is called a variant. You could do this in a naive way and just report for each position if there is a change. But this will result in many false positive variants (can you explain this?). We need a more statistical approach to filter out low quality variants and that's why the tool has settings to for instance set the minimum amount of reads (coverage) at a position to consider looking for variations. Also the variants itself should be supported by a minimum number of reads and the base quality of that position should not be too low.\n",
    "\n",
    "<!-- \n",
    "http://genome.cshlp.org/content/22/3/568\n",
    "http://varscan.sourceforge.net/using-varscan.html\n",
    "-->\n",
    "\n",
    "From the toolbox select the <strong>Varscan</strong> tool, select your pileup file as input and leave all the settings to their defaults and execute the tool (this will take 5 to 10 minutes to complete as it has to analyze 100 million lines of data):\n",
    "<img src=\"pics/varScan.png\">\n",
    "\n",
    "<img src=\"pics/varScan_output.png\" style=\"float: right\">\n",
    "\n",
    "#### Programming Assignment; VCF File Filtering\n",
    "The result of the Varscan tool is a single new file in your history in the [**vcf**](http://www.internationalgenome.org/wiki/Analysis/vcf4.0/) file format where each line describes a single variant. In Galaxy you can then directly see how many variants you have; over 7000 in the example shown to the right. Note the 24 comment-lines at the top of the file.\n",
    "\n",
    "We intentionally did not touch any of the filtering settings when running Varscan so that we could have a good programming excercise! This assignment asks to filter all found variant positions for the *Variant [allele frequency](https://en.wikipedia.org/wiki/Allele_frequency)* value (denoted by the `FREQ` field). All variants with a variant allele frequency higher than a **given** frequency (supplied on the command-line) should be writen to a new output file. The UMCG uses a threshold of **30%** in their analysis pipeline for the variant alelle frequency. Why is it important to filter on a minimal percentage variant allele frequency?\n",
    "\n",
    "The [Deliverable 5 Template Python Script](https://bitbucket.org/mkempenaar/diagnosticgenomeanalysis/raw/master/templates/deliverable5.py) can be used in which there are two functions that needs to be changed:\n",
    "* the `parse_vcf_data` function that reads the data and decides for each variant position if the *variant allele frequency* is above a given value and writes the variant to an output file if so.\n",
    "* the `main` function at the bottom where you are asked to process commandline arguments using the Python [`argparse` library](https://docs.python.org/3/library/argparse.html).\n",
    "\n",
    "Once the program is finished, download your VCF file from Galaxy and process this file resulting in a filtered VCF file (that we will upload back into Galaxy in the next chapter). <strong>Important:</strong> report on your findings after this filtering step, include *at least* the number of variants before and after filtering!\n",
    "\n",
    "We are not going to do this! <s>You need to create a Galaxy tool so we can use it from within Galaxy! Instructions for creating such a Galaxy tool can be found in [this document](http://nbviewer.jupyter.org/urls/bitbucket.org/mkempenaar/diagnosticgenomeanalysis/raw/master/chapters/a1_custom_galaxy_tool.ipynb) which links to further resources if you need it.</s>"
   ]
  }
 ],
 "metadata": {
  "kernelspec": {
   "display_name": "Python 3",
   "language": "python",
   "name": "python3"
  },
  "language_info": {
   "codemirror_mode": {
    "name": "ipython",
    "version": 3
   },
   "file_extension": ".py",
   "mimetype": "text/x-python",
   "name": "python",
   "nbconvert_exporter": "python",
   "pygments_lexer": "ipython3",
   "version": "3.7.3"
  }
 },
 "nbformat": 4,
 "nbformat_minor": 2
}
