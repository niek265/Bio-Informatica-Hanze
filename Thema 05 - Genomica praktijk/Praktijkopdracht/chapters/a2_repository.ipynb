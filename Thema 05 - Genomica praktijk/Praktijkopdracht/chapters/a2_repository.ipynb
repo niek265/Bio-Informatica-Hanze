{
 "cells": [
  {
   "cell_type": "markdown",
   "metadata": {},
   "source": [
    "# Deliverable Instructions - Repository Management\n",
    "\n",
    "All Python templates for this project are available on the [Bitbucket website](https://bitbucket.org/mkempenaar/diagnosticgenomeanalysis/raw/master/templates/). Instead of **downloading** these files directly and editing those, you will create your own version (copy) of the online repository (a so called *fork*), clone this repository to disk, edit the files and update your repository. The goal of this procedure is to get familiar with managing a repository, something that will be repeated often during your study.\n",
    "\n",
    "<img src=\"pics/fork.png\" style=\"float: right;\">\n",
    "\n",
    "First of all, you are required to create a Bitbucket account that will hold the external repository. You can use your student email (`...@st.hanze.nl`) or your bioinf-email (`...@bioinf.nl`, see the note below). \n",
    "\n",
    "**Note**: you are required to verify your email which is slightly annoying when using your `username@bioinf.nl` address;\n",
    "* Open a Terminal and enter the `mutt` command (a commandline email-client),\n",
    "* Select the *Please verify your email address* mail from Atlassian using the arrow keys,\n",
    "* Open the email using the Enter key,\n",
    "* Type `v` to view the HTML attachment(s),\n",
    "* Press Enter to open the HTML attachment in your browser,\n",
    "* Click the *verify your email* button,\n",
    "* Quit Mutt by pressing the `q`-key until you're back in the terminal.\n",
    "\n",
    "Next, login to Bitbucket and go to the repository [Bitbucket website](https://bitbucket.org/mkempenaar/diagnosticgenomeanalysis). On the left-hand menu there is a `+`-sign (see example on the right) which shows the *Fork this repository* link when clicked. Use this link to create your own fork of the repository. Make sure that the *make private* is selected which prevents others from viewing your code.\n",
    "\n",
    "<img src=\"pics/private_fork.png\" width=\"450\" />\n",
    "\n",
    "Once you have created a fork of the repository, you can download the files by *cloning* the repository on disk. Once you are on your project website you'll see a link that can be used to clone the repository. Open a terminal and go to a folder where the project can be downloaded and paste the `git clone ...` link. \n",
    "\n",
    "This will download everything (including the Jupyter Notebook files that you are reading now) into the `diagnosticgenomeanalysis` folder. In here, there is a folder `templates` containing the Python template files. \n",
    "\n",
    "All of these templates can be executed without adding any code but it might (depending on the deliverable) show a message that the output is incorrect (try it!).\n",
    "\n",
    "## Updating the Fork\n",
    "\n",
    "Handing in the solutions to the assignments is done through updating your fork with the solutions. There are two steps to be taken to do this:\n",
    "<img src=\"pics/bitbucket_invite.png\" style=\"float: right;\" />\n",
    "* Invite the teacher to get *read* access to your repository:\n",
    "    * Click the *Send Invitation* button to open the *Share* window and add the user `m.kempenaar@pl.hanze.nl` or `r.wedema@pl.hanze.nl` depending on who you have as teacher\n",
    "    * Make sure the rights are set to *READ* and click the *Share* button\n",
    "* *Push* changes to the templates to your repository:\n",
    "    * Once you've made changes to the templates or added other files, you can add them to your repository:\n",
    "        * Open a terminal and go to the folder containing the `templates/` folder\n",
    "        * Assess the differences using the `git status` command\n",
    "        * Add the changes so git knows what to update using `git add`\n",
    "        * Commit the changes to the repository with `git commit -m \"A complete commit message\"`\n",
    "        * Push the updates to Bitbucket with `git push -u origin master`\n",
    "\n",
    "It adviced to commit & push the changes once a deliverable is finished instead of a single commit containing all the work. This can also be used to keep the code synchronized between multiple computers. When working on a different computer once again clone your fork using the `git clone ...` command. To keep any of the clones up-to-date, execute the `git pull` command which will try to synchronize the files on disk with those in the online repository.\n",
    "\n",
    "Make sure to execute this command *before* changing any files to prevent so called *conflicts*. [See](http://rogerdudler.github.io/git-guide/) [one](http://www.vogella.com/tutorials/Git/article.html#gitaddingprocess) [of](http://classic.scottr.org/presentations/git-in-5-minutes/) [the](https://www.youtube.com/watch?v=XiQnN-igNoc) [many](https://www.youtube.com/watch?v=7Ab5DIWYUMw) [git](https://www.youtube.com/watch?v=9cSpDCYo1GM) [tutorials](https://www.atlassian.com/git/tutorials/saving-changes) [when](http://dont-be-afraid-to-commit.readthedocs.io/en/latest/git/commandlinegit.html) [needed](https://www.google.nl/url?sa=t&rct=j&q=&esrc=s&source=web&cd=5&cad=rja&uact=8&ved=0ahUKEwivl4q28q7WAhXRmLQKHb7dDPEQtwIIUjAE&url=https%3A%2F%2Fwww.youtube.com%2Fwatch%3Fv%3DHVsySz-h9r4&usg=AFQjCNG2hWHHMbAIE4TroktaNGdMIcNtVQ)."
   ]
  },
  {
   "cell_type": "code",
   "execution_count": null,
   "metadata": {},
   "outputs": [],
   "source": []
  }
 ],
 "metadata": {
  "kernelspec": {
   "display_name": "Python 3",
   "language": "python",
   "name": "python3"
  },
  "language_info": {
   "codemirror_mode": {
    "name": "ipython",
    "version": 3
   },
   "file_extension": ".py",
   "mimetype": "text/x-python",
   "name": "python",
   "nbconvert_exporter": "python",
   "pygments_lexer": "ipython3",
   "version": "3.7.3"
  }
 },
 "nbformat": 4,
 "nbformat_minor": 4
}
